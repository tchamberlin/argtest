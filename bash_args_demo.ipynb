{
 "cells": [
  {
   "cell_type": "code",
   "execution_count": 1,
   "id": "7a0856da-f75f-4b55-bab2-73001f874c9c",
   "metadata": {
    "tags": []
   },
   "outputs": [],
   "source": [
    "bind 'set enable-bracketed-paste off'"
   ]
  },
  {
   "cell_type": "code",
   "execution_count": 2,
   "id": "b5dff2fb-f7e0-44e3-8a1d-fe476618bc70",
   "metadata": {
    "tags": []
   },
   "outputs": [],
   "source": [
    "# unset PROMPT_COMMAND\n",
    "# Ignore this block\n",
    "# shopt -s expand_aliases\n",
    "alias trace_on='set -x'\n",
    "alias trace_off='{ set +x; } 2>/dev/null'\n",
    "alias argtest='./argtest.py'\n",
    "# Manually set the width of our terminal to 180 so that argtest can autosize appropriately\n",
    "stty cols 180"
   ]
  },
  {
   "cell_type": "markdown",
   "id": "769f0e6f-d2b7-44d7-ad7a-3564fafb150b",
   "metadata": {
    "tags": []
   },
   "source": [
    "# Bash Argument Parsing Demo\n",
    "\n",
    "Welcome! Bash/shell scripting can be very confusing at first. This will hopefully serve as a gentle introduction into the power and pitfalls of a shell/command line interface (CLI)"
   ]
  },
  {
   "cell_type": "markdown",
   "id": "a5149d4b-e952-4eb5-a1cd-0536aa775d7b",
   "metadata": {},
   "source": [
    "Let's start with a \"hello world\". This is very simple in bash:"
   ]
  },
  {
   "cell_type": "code",
   "execution_count": 3,
   "id": "046aaa0d-eab7-4fe3-b11a-273d6a280340",
   "metadata": {
    "tags": []
   },
   "outputs": [
    {
     "name": "stdout",
     "output_type": "stream",
     "text": [
      "hello world\n"
     ]
    }
   ],
   "source": [
    "echo hello world"
   ]
  },
  {
   "cell_type": "markdown",
   "id": "1295866b-fc34-40f3-ab34-f839011b6fe7",
   "metadata": {},
   "source": [
    "`echo` just prints every argument it is given. It might seem a bit silly -- why would you want to print out what you just wrote? Well, although `echo` can be used in an interactive shell, it is more commonly used in scripts, in order to provide information to the user of the script."
   ]
  },
  {
   "cell_type": "markdown",
   "id": "2b1766ff-31ab-413d-8ff0-176505869ef3",
   "metadata": {
    "tags": []
   },
   "source": [
    "## Variables"
   ]
  },
  {
   "cell_type": "code",
   "execution_count": 15,
   "id": "a051cc42-efb3-41aa-a92b-a6d84fa2a3b5",
   "metadata": {},
   "outputs": [
    {
     "name": "stdout",
     "output_type": "stream",
     "text": [
      "+ set -x\n",
      "+ unset foo\n",
      "+ echo\n",
      "\n"
     ]
    }
   ],
   "source": [
    "trace_on\n",
    "\n",
    "unset foo\n",
    "# Print the value of the `foo` variable\n",
    "echo $foo\n",
    "\n",
    "trace_off"
   ]
  },
  {
   "cell_type": "markdown",
   "id": "57428e69-d3c4-41de-807a-980b739e6d43",
   "metadata": {},
   "source": [
    "`foo` is unset here. In bash, unset variables render as an empty string (nothing). `echo` prints a newline at the end of its output, leaving us with a single newline (`\\n`) as the output"
   ]
  },
  {
   "cell_type": "code",
   "execution_count": 19,
   "id": "e070b456-b842-41ee-857f-c88f1a6714e7",
   "metadata": {},
   "outputs": [
    {
     "name": "stdout",
     "output_type": "stream",
     "text": [
      "+ foo=bar\n",
      "+ echo bar\n",
      "bar\n"
     ]
    }
   ],
   "source": [
    "trace_on\n",
    "\n",
    "# Set variable `foo` to value `bar`\n",
    "foo=bar\n",
    "# Print the value of variable `foo`\n",
    "echo $foo\n",
    "\n",
    "trace_off"
   ]
  },
  {
   "cell_type": "code",
   "execution_count": 21,
   "id": "4e90cc70-b52e-4e9f-a339-5bf65ecd8ac4",
   "metadata": {},
   "outputs": [
    {
     "name": "stdout",
     "output_type": "stream",
     "text": [
      "+ echo bar\n",
      "bar\n"
     ]
    }
   ],
   "source": [
    "trace_on\n",
    "\n",
    "# Print the value of variable `foo`\n",
    "echo \"$foo\"\n",
    "\n",
    "trace_off"
   ]
  },
  {
   "cell_type": "code",
   "execution_count": 20,
   "id": "929f33b0-21d6-410e-8b0b-4cec4ef17f80",
   "metadata": {
    "tags": []
   },
   "outputs": [
    {
     "name": "stdout",
     "output_type": "stream",
     "text": [
      "+ echo '$foo'\n",
      "$foo\n"
     ]
    }
   ],
   "source": [
    "trace_on\n",
    "\n",
    "# Print the literal characters `'$foo'`\n",
    "echo '$foo'\n",
    "\n",
    "trace_off"
   ]
  },
  {
   "cell_type": "markdown",
   "id": "54ae03c9-ad10-4c87-a0f3-4f0423c8e107",
   "metadata": {},
   "source": [
    "`foo` is still set to value `bar`, but single quotes prevent variables from being expanded. So, the literal string `'$foo'` is passed to `echo`, and then printed"
   ]
  },
  {
   "cell_type": "markdown",
   "id": "81c58e6c-a3a9-48a6-b87c-07ca849bb8a6",
   "metadata": {},
   "source": [
    "It's important to understand that **`echo` has nothing to do with bash variables!** Variables are expanded _before_ being sent to a program"
   ]
  },
  {
   "cell_type": "markdown",
   "id": "276703f0-c31c-4cbb-aeb8-6a634e5ea517",
   "metadata": {},
   "source": [
    "## Wildcards (Globs)\n",
    "\n",
    "In bash, some characters are considered wildcards. Here they are, in order of how often you will probably use them:\n",
    "1. `*` matches zero or more of _any_ character\n",
    "2. `?` matches exactly one of _any_ character\n",
    "3. `[]` matches the character ranges within it\n",
    "\n",
    "Let's look at some examples! But first, let's create some files to work with"
   ]
  },
  {
   "cell_type": "code",
   "execution_count": 59,
   "id": "311566a2-531e-4fae-b438-49f4653f9fe1",
   "metadata": {},
   "outputs": [],
   "source": [
    "mkdir test_files\n",
    "cd test_files"
   ]
  },
  {
   "cell_type": "code",
   "execution_count": 97,
   "id": "68d9e5c8-cb83-4eeb-a78f-2aad3dd15b51",
   "metadata": {},
   "outputs": [
    {
     "name": "stdout",
     "output_type": "stream",
     "text": [
      "data.fits  file10.txt  file1.txt  file2.txt  file4.json  file9.txt  fileZ.txt  other.txt\n"
     ]
    }
   ],
   "source": [
    "# Create empty test files. The contents don't matter; we just care about their filenames\n",
    "touch file1.txt file2.txt file9.txt file10.txt other.txt data.fits file4.json fileZ.txt\n",
    "# List the contents of test_files/\n",
    "ls"
   ]
  },
  {
   "cell_type": "markdown",
   "id": "f47ca013-e896-4b63-96e6-5e1ecd6d91db",
   "metadata": {},
   "source": [
    "### Star Wildcard: `*`\n",
    "\n",
    "`*` matches zero or more of _any_ character\n",
    "\n",
    "What if we don't want to list _all_ of the files in this directory? What if we only want to list only the `.txt` files?"
   ]
  },
  {
   "cell_type": "code",
   "execution_count": 67,
   "id": "bffe4a15-19a4-4906-be6b-073aa2e66f18",
   "metadata": {},
   "outputs": [
    {
     "name": "stdout",
     "output_type": "stream",
     "text": [
      "file10.txt  file1.txt  file2.txt  file9.txt  fileZ.txt  other.txt\n"
     ]
    }
   ],
   "source": [
    "# List all files that end in .txt\n",
    "ls *.txt"
   ]
  },
  {
   "cell_type": "code",
   "execution_count": 68,
   "id": "f7bf5b14-55f3-4d92-8fe0-91f267eed7a7",
   "metadata": {},
   "outputs": [
    {
     "name": "stdout",
     "output_type": "stream",
     "text": [
      "file10.txt  file1.txt  file2.txt  file4.json  file9.txt  fileZ.txt\n"
     ]
    }
   ],
   "source": [
    "# List all files that start with 'file'\n",
    "ls file*"
   ]
  },
  {
   "cell_type": "code",
   "execution_count": 75,
   "id": "016068d1-02e0-4508-bd76-792252d07134",
   "metadata": {},
   "outputs": [
    {
     "name": "stdout",
     "output_type": "stream",
     "text": [
      "file10.txt  file1.txt  file2.txt  file9.txt  fileZ.txt\n"
     ]
    }
   ],
   "source": [
    "# List all files that start with 'file' and end with '.txt'\n",
    "ls file*.txt"
   ]
  },
  {
   "cell_type": "markdown",
   "id": "45ec480d-d7ce-45a1-848e-6ce5ba6fd6ef",
   "metadata": {},
   "source": [
    "### Question Mark Wildcard: `?`\n",
    "\n",
    "`?` matches exactly one of _any_ character\n",
    "\n",
    "Let's say that we wanted to list all the `file*.txt` files that have a single digit number in their name. We can't do this with `*`, but `?` will work"
   ]
  },
  {
   "cell_type": "code",
   "execution_count": 76,
   "id": "7185da2a-3086-4d00-b457-a43b17b12e3c",
   "metadata": {},
   "outputs": [
    {
     "name": "stdout",
     "output_type": "stream",
     "text": [
      "file1.txt  file2.txt  file9.txt  fileZ.txt\n"
     ]
    }
   ],
   "source": [
    "# List all filenames that start with 'file', then contain one of any character, then end with '.txt'\n",
    "ls file?.txt"
   ]
  },
  {
   "cell_type": "markdown",
   "id": "1ff4c47d-a281-46a8-b2b9-334f206387bf",
   "metadata": {},
   "source": [
    "This matches `file1.txt`, `file2.txt`, `file9.txt`, and `fileZ.txt`, because they each have a single character after 'file'. It does _not_ match `file10.txt`, because there are two characters (i.e. `10`), not just one (i.e. `1`, `2`, `9`, `Z`)"
   ]
  },
  {
   "cell_type": "markdown",
   "id": "6f20b487-4d5a-407e-b865-8d4579e6ee89",
   "metadata": {},
   "source": [
    "### Range Wildcard: `[]`\n",
    "\n",
    "`[]` matches the character ranges within it\n",
    "\n",
    "What if we wanted to select just `file1.txt`, `file2.txt`, and `file3.txt`? That is, all `file[number].txt` files, but _not_ `fileZ.txt`. Obviously we could just explicitly list them all, but imagine we have thousands of files -- this won't be viable!\n",
    "\n",
    "We can use the range wildcard to specify the explicit range of characters we want to match"
   ]
  },
  {
   "cell_type": "code",
   "execution_count": 79,
   "id": "a0edbe32-332c-4557-8c55-9d8475075a3f",
   "metadata": {},
   "outputs": [
    {
     "name": "stdout",
     "output_type": "stream",
     "text": [
      "file1.txt  file2.txt  file9.txt\n"
     ]
    }
   ],
   "source": [
    "ls file[1-9].txt"
   ]
  },
  {
   "cell_type": "markdown",
   "id": "052058c4-6199-44dc-ab6f-8ef364e755ba",
   "metadata": {},
   "source": [
    "Note that wildcards match directories, too. For example, let's say we have .txt files in a few sub-directories"
   ]
  },
  {
   "cell_type": "code",
   "execution_count": 100,
   "id": "37d5d1f1-e1ec-49ce-98f2-0c1e9bfc461b",
   "metadata": {},
   "outputs": [
    {
     "name": "stdout",
     "output_type": "stream",
     "text": [
      "\u001b[01;34m.\u001b[00m\n",
      "├── \u001b[01;34ma\u001b[00m\n",
      "│   ├── 1.txt\n",
      "│   └── 2.txt\n",
      "├── \u001b[01;34mb\u001b[00m\n",
      "│   ├── 1.txt\n",
      "│   └── 2.txt\n",
      "├── \u001b[01;34mc\u001b[00m\n",
      "│   ├── 1.txt\n",
      "│   └── 2.txt\n",
      "├── data.fits\n",
      "├── \u001b[01;34mdeep\u001b[00m\n",
      "│   └── \u001b[01;34mnesting\u001b[00m\n",
      "│       └── \u001b[01;34mof\u001b[00m\n",
      "│           └── \u001b[01;34mdirectories\u001b[00m\n",
      "│               ├── 1.txt\n",
      "│               ├── 2.txt\n",
      "│               └── 3.txt\n",
      "├── file10.txt\n",
      "├── file1.txt\n",
      "├── file2.txt\n",
      "├── file4.json\n",
      "├── file9.txt\n",
      "├── fileZ.txt\n",
      "├── \u001b[01;34mmore\u001b[00m\n",
      "│   └── \u001b[01;34mdeep\u001b[00m\n",
      "│       └── \u001b[01;34mnestings\u001b[00m\n",
      "│           ├── 1.txt\n",
      "│           ├── 2.txt\n",
      "│           └── 3.txt\n",
      "├── \u001b[01;34mmore_and_even_more\u001b[00m\n",
      "│   └── \u001b[01;34mdeep\u001b[00m\n",
      "│       └── \u001b[01;34mnestings\u001b[00m\n",
      "│           ├── 1.txt\n",
      "│           ├── 2.txt\n",
      "│           └── 3.txt\n",
      "├── \u001b[01;34mmore_and_more\u001b[00m\n",
      "│   └── \u001b[01;34mdeep\u001b[00m\n",
      "│       └── \u001b[01;34mnestings\u001b[00m\n",
      "│           ├── 1.txt\n",
      "│           ├── 2.txt\n",
      "│           └── 3.txt\n",
      "└── other.txt\n",
      "\n",
      "16 directories, 26 files\n"
     ]
    }
   ],
   "source": [
    "mkdir {a,b,c}\n",
    "touch {a,b,c}/{1,2}.txt\n",
    "tree"
   ]
  },
  {
   "cell_type": "code",
   "execution_count": null,
   "id": "d2bb43c7-734b-429f-9f1f-09836640302d",
   "metadata": {},
   "outputs": [],
   "source": [
    "ls *.txt"
   ]
  },
  {
   "cell_type": "markdown",
   "id": "7554b931-d00b-4ebf-b47b-edb9fd39f106",
   "metadata": {},
   "source": [
    "Hmmm... our new files don't show up. This is because `*` is restricted to the current directory. We can just list both directories explictly, though"
   ]
  },
  {
   "cell_type": "code",
   "execution_count": 102,
   "id": "20c0679f-9050-464c-b1e1-e57101447916",
   "metadata": {},
   "outputs": [
    {
     "name": "stdout",
     "output_type": "stream",
     "text": [
      "./a/1.txt  ./a/2.txt  ./b/1.txt  ./b/2.txt  ./c/1.txt  ./c/2.txt\n"
     ]
    }
   ],
   "source": [
    "ls ./*/*.txt"
   ]
  },
  {
   "cell_type": "code",
   "execution_count": null,
   "id": "5f84c08c-bde6-4640-8d3e-3a86f58fe33f",
   "metadata": {},
   "outputs": [],
   "source": []
  },
  {
   "cell_type": "markdown",
   "id": "fd7ed74a-d8ab-4e74-98cf-8fe4cb7fe41d",
   "metadata": {
    "tags": []
   },
   "source": [
    "## Expansions\n",
    "\n",
    "### Curly Brackets\n",
    "\n",
    "Curly brackets (`{}`) have special meaning in bash: any comma-separated values within them are _expanded_ during command pre-processing\n",
    "\n",
    "Imagine that we want to list files `file9.txt` and `file10.txt`. We can't use any of the above methods! Again, we could obviously just list them both explicitly. But we can save some typing by using bracket expansion"
   ]
  },
  {
   "cell_type": "code",
   "execution_count": 78,
   "id": "c8564cb9-be76-44ef-bae7-745b0effc22b",
   "metadata": {},
   "outputs": [
    {
     "name": "stdout",
     "output_type": "stream",
     "text": [
      "file10.txt  file9.txt\n"
     ]
    }
   ],
   "source": [
    "ls file{9,10}.txt"
   ]
  },
  {
   "cell_type": "markdown",
   "id": "41deec5c-48db-464b-91ea-c45dc8c07c59",
   "metadata": {},
   "source": [
    "### Recursive Glob (globstar)\n",
    "\n",
    "This is probably already set in your shell, but if not: `shopt -s globstar`\n",
    "\n",
    "First, some test data:"
   ]
  },
  {
   "cell_type": "code",
   "execution_count": 98,
   "id": "d0106549-748b-4da4-a382-892199d3f2e4",
   "metadata": {},
   "outputs": [
    {
     "name": "stdout",
     "output_type": "stream",
     "text": [
      "\u001b[01;34m.\u001b[00m\n",
      "├── data.fits\n",
      "├── \u001b[01;34mdeep\u001b[00m\n",
      "│   └── \u001b[01;34mnesting\u001b[00m\n",
      "│       └── \u001b[01;34mof\u001b[00m\n",
      "│           └── \u001b[01;34mdirectories\u001b[00m\n",
      "│               ├── 1.txt\n",
      "│               ├── 2.txt\n",
      "│               └── 3.txt\n",
      "├── file10.txt\n",
      "├── file1.txt\n",
      "├── file2.txt\n",
      "├── file4.json\n",
      "├── file9.txt\n",
      "├── fileZ.txt\n",
      "└── other.txt\n",
      "\n",
      "4 directories, 11 files\n"
     ]
    }
   ],
   "source": [
    "# Create nested directories\n",
    "mkdir -p deep/nesting/of/directories\n",
    "# Create some .txt files in the \"bottom\" directory\n",
    "touch deep/nesting/of/directories/{1,2,3}.txt\n",
    "# Show our work\n",
    "tree"
   ]
  },
  {
   "cell_type": "markdown",
   "id": "48b9d96e-ec23-40ee-af6d-a5f31afc628d",
   "metadata": {},
   "source": [
    "Great, so let's say we wanted to find _all_ of the .txt files \"under\" our current directory"
   ]
  },
  {
   "cell_type": "code",
   "execution_count": 82,
   "id": "bb00e3a7-5146-4cbe-aaea-0b67cf9059c3",
   "metadata": {},
   "outputs": [
    {
     "name": "stdout",
     "output_type": "stream",
     "text": [
      "file10.txt  file1.txt  file2.txt  file9.txt  fileZ.txt  other.txt\n"
     ]
    }
   ],
   "source": [
    "ls *.txt"
   ]
  },
  {
   "cell_type": "markdown",
   "id": "395202b5-ab9a-403a-b163-005a42bd253c",
   "metadata": {},
   "source": []
  },
  {
   "cell_type": "code",
   "execution_count": 86,
   "id": "abd30135-2527-4b96-bb5c-1036f7b85dc6",
   "metadata": {},
   "outputs": [
    {
     "name": "stdout",
     "output_type": "stream",
     "text": [
      "./deep/nesting/of/directories/1.txt  ./deep/nesting/of/directories/2.txt  ./deep/nesting/of/directories/3.txt  file10.txt  file1.txt  file2.txt  file9.txt  fileZ.txt  other.txt\n"
     ]
    }
   ],
   "source": [
    "# Use two wildcards to match .txt files in the current and nested directories\n",
    "ls *.txt ./deep/nesting/of/directories/*.txt"
   ]
  },
  {
   "cell_type": "markdown",
   "id": "b4fbe874-bf07-4b55-af8d-0bc21116f070",
   "metadata": {},
   "source": [
    "But if we have more than a few directories, this gets pretty tedious and error prone. "
   ]
  },
  {
   "cell_type": "code",
   "execution_count": 99,
   "id": "31b46f80-8f44-44b1-9049-6a53c99c98c3",
   "metadata": {},
   "outputs": [
    {
     "name": "stdout",
     "output_type": "stream",
     "text": [
      "\u001b[01;34m.\u001b[00m\n",
      "├── data.fits\n",
      "├── \u001b[01;34mdeep\u001b[00m\n",
      "│   └── \u001b[01;34mnesting\u001b[00m\n",
      "│       └── \u001b[01;34mof\u001b[00m\n",
      "│           └── \u001b[01;34mdirectories\u001b[00m\n",
      "│               ├── 1.txt\n",
      "│               ├── 2.txt\n",
      "│               └── 3.txt\n",
      "├── file10.txt\n",
      "├── file1.txt\n",
      "├── file2.txt\n",
      "├── file4.json\n",
      "├── file9.txt\n",
      "├── fileZ.txt\n",
      "├── \u001b[01;34mmore\u001b[00m\n",
      "│   └── \u001b[01;34mdeep\u001b[00m\n",
      "│       └── \u001b[01;34mnestings\u001b[00m\n",
      "│           ├── 1.txt\n",
      "│           ├── 2.txt\n",
      "│           └── 3.txt\n",
      "├── \u001b[01;34mmore_and_even_more\u001b[00m\n",
      "│   └── \u001b[01;34mdeep\u001b[00m\n",
      "│       └── \u001b[01;34mnestings\u001b[00m\n",
      "│           ├── 1.txt\n",
      "│           ├── 2.txt\n",
      "│           └── 3.txt\n",
      "├── \u001b[01;34mmore_and_more\u001b[00m\n",
      "│   └── \u001b[01;34mdeep\u001b[00m\n",
      "│       └── \u001b[01;34mnestings\u001b[00m\n",
      "│           ├── 1.txt\n",
      "│           ├── 2.txt\n",
      "│           └── 3.txt\n",
      "└── other.txt\n",
      "\n",
      "13 directories, 20 files\n"
     ]
    }
   ],
   "source": [
    "mkdir -p {more,more_and_more,more_and_even_more}/deep/nestings\n",
    "touch {more,more_and_more,more_and_even_more}/deep/nestings/{1,2,3}.txt\n",
    "\n",
    "tree"
   ]
  },
  {
   "cell_type": "markdown",
   "id": "bccc2999-e309-421b-b374-a65eec62d3cd",
   "metadata": {},
   "source": [
    "We _could_ specify these manually: `{deep,more,more_and_more,more_and_even_more}/deep/nestings/*.txt`\n",
    "\n",
    "Luckily there's a better way: recursive globs!\n",
    "\n",
    "> **globstar**\n",
    ">\n",
    "> If set, the pattern `**` used in a filename expansion context will match all files and zero or more directories and subdirectories. If the pattern is followed by a `/`, only directories and subdirectories match."
   ]
  },
  {
   "cell_type": "code",
   "execution_count": 88,
   "id": "285e3b6c-ea36-46ef-990e-c83b19427df3",
   "metadata": {},
   "outputs": [
    {
     "name": "stdout",
     "output_type": "stream",
     "text": [
      "./deep/nesting/of/directories/1.txt  ./deep/nesting/of/directories/3.txt  ./file1.txt  ./file9.txt  ./other.txt\n",
      "./deep/nesting/of/directories/2.txt  ./file10.txt                         ./file2.txt  ./fileZ.txt\n"
     ]
    }
   ],
   "source": [
    "ls ./**/*.txt"
   ]
  },
  {
   "cell_type": "markdown",
   "id": "8c7e7cd9-f0ec-46b9-9618-a778f006593e",
   "metadata": {
    "tags": []
   },
   "source": [
    "## Quotes\n",
    " \n",
    "You'll see both single (`'`) and double (`\"`) quotes in bash. You will also see backticks (``` ` ```), but these are _not_ quotes.\n",
    "\n",
    "Single and double quotes are similar in many ways, but distinct in others, and this can be very confusing at first"
   ]
  },
  {
   "cell_type": "markdown",
   "id": "8ef23f9b-1f90-470f-923f-1aca173f0436",
   "metadata": {
    "tags": []
   },
   "source": [
    "### Whitespace\n",
    "\n",
    "Whitespace in commands is handled differently if it is within quotes. "
   ]
  },
  {
   "cell_type": "markdown",
   "id": "a3b413f7-5a77-4e9b-8045-746c9c1fc104",
   "metadata": {},
   "source": [
    "Here we print \"hello world\" using no quotes, single quotes, then double quotes"
   ]
  },
  {
   "cell_type": "code",
   "execution_count": 4,
   "id": "50736648-f419-4091-ac40-942cf07017be",
   "metadata": {},
   "outputs": [
    {
     "name": "stdout",
     "output_type": "stream",
     "text": [
      "hello world\n",
      "hello world\n",
      "hello world\n"
     ]
    }
   ],
   "source": [
    "# No quotes\n",
    "echo hello world\n",
    "# Single quotes\n",
    "echo 'hello world'\n",
    "# Double quotes\n",
    "echo \"hello world\""
   ]
  },
  {
   "cell_type": "markdown",
   "id": "05b2895d-8593-4492-a5f1-c6f4d362fbd3",
   "metadata": {},
   "source": [
    "The first thing you might notice here is that there are twice as many lines! The ones prefixed by `+` are coming from Bash's command trace mode (`set -x`). The others are the output of `echo` itself. We can use this extra information to learn about how Bash handles quotes!\n",
    "\n",
    "As for the output itself:\n",
    "\n",
    "- `echo hello world` sends two arguments to `echo`: `hello` and `world`\n",
    "- `echo 'hello world'` and `echo \"hello world\"` have the same effect: they both result in a single argument being sent to `echo`: `'hello world'`\n",
    "\n",
    "**In all three cases, the output is identical!** This is because `echo` prints out all of its arguments, separated by a space (` `).\n",
    "\n",
    "We can see this easily via a second set of examples, this time using `hello` and `world` separated by 4 spaces:"
   ]
  },
  {
   "cell_type": "code",
   "execution_count": 5,
   "id": "ab79173b-57e7-454e-afc7-4525643b2bba",
   "metadata": {},
   "outputs": [
    {
     "name": "stdout",
     "output_type": "stream",
     "text": [
      "+ echo hello world\n",
      "hello world\n",
      "+ echo 'hello    world'\n",
      "hello    world\n",
      "+ echo 'hello    world'\n",
      "hello    world\n"
     ]
    }
   ],
   "source": [
    "trace_on\n",
    "# No quotes\n",
    "echo hello    world\n",
    "# Single quotes\n",
    "echo 'hello    world'\n",
    "# Double quotes\n",
    "echo \"hello    world\"\n",
    "trace_off"
   ]
  },
  {
   "cell_type": "markdown",
   "id": "596efd6a-c0ed-4290-af6e-8b4ee0969f76",
   "metadata": {},
   "source": [
    "This time, the output is **not** identical. In the first example, `hello` and `world` are passed to `echo` as two separate arguments. `echo` then prints them both out, with a single space in between.\n",
    "\n",
    "In the single- and double-quote examples, a single argument is passed to `echo`: `hello    world`. This single argument is printed out exactly as it is received."
   ]
  },
  {
   "cell_type": "code",
   "execution_count": 6,
   "id": "1ab867a5-bef3-4014-94f6-d95cb605dafa",
   "metadata": {},
   "outputs": [
    {
     "name": "stdout",
     "output_type": "stream",
     "text": [
      "+ ./argtest.py hello world -v\n",
      "Received 2 arguments:\n",
      "hello world\n",
      "\n",
      " \u001b[3m                 hello                  \u001b[0m  \u001b[3m                 world                  \u001b[0m \n",
      " ┏━━━━━━━┳━━━━━━━┳━━━━━━━━━━━━━━━━━━━━━━┓  ┏━━━━━━━┳━━━━━━━┳━━━━━━━━━━━━━━━━━━━━━━┓ \n",
      " ┃\u001b[1m \u001b[0m\u001b[1mChar.\u001b[0m\u001b[1m \u001b[0m┃\u001b[1m \u001b[0m\u001b[1mRepr.\u001b[0m\u001b[1m \u001b[0m┃\u001b[1m \u001b[0m\u001b[1mName                \u001b[0m\u001b[1m \u001b[0m┃  ┃\u001b[1m \u001b[0m\u001b[1mChar.\u001b[0m\u001b[1m \u001b[0m┃\u001b[1m \u001b[0m\u001b[1mRepr.\u001b[0m\u001b[1m \u001b[0m┃\u001b[1m \u001b[0m\u001b[1mName                \u001b[0m\u001b[1m \u001b[0m┃ \n",
      " ┡━━━━━━━╇━━━━━━━╇━━━━━━━━━━━━━━━━━━━━━━┩  ┡━━━━━━━╇━━━━━━━╇━━━━━━━━━━━━━━━━━━━━━━┩ \n",
      " │ h     │ 'h'   │ LATIN SMALL LETTER H │  │ w     │ 'w'   │ LATIN SMALL LETTER W │ \n",
      " │ e     │ 'e'   │ LATIN SMALL LETTER E │  │ o     │ 'o'   │ LATIN SMALL LETTER O │ \n",
      " │ l     │ 'l'   │ LATIN SMALL LETTER L │  │ r     │ 'r'   │ LATIN SMALL LETTER R │ \n",
      " │ l     │ 'l'   │ LATIN SMALL LETTER L │  │ l     │ 'l'   │ LATIN SMALL LETTER L │ \n",
      " │ o     │ 'o'   │ LATIN SMALL LETTER O │  │ d     │ 'd'   │ LATIN SMALL LETTER D │ \n",
      " └───────┴───────┴──────────────────────┘  └───────┴───────┴──────────────────────┘ \n"
     ]
    }
   ],
   "source": [
    "trace_on\n",
    "argtest hello world -v\n",
    "trace_off"
   ]
  },
  {
   "cell_type": "code",
   "execution_count": 7,
   "id": "3463d8be-aa3e-4774-87e1-197230674d93",
   "metadata": {},
   "outputs": [
    {
     "name": "stdout",
     "output_type": "stream",
     "text": [
      "+ ./argtest.py 'hello world' -v\n",
      "Received 1 arguments:\n",
      "hello world\n",
      "\n",
      " \u001b[3m              hello world               \u001b[0m \n",
      " ┏━━━━━━━┳━━━━━━━┳━━━━━━━━━━━━━━━━━━━━━━┓ \n",
      " ┃\u001b[1m \u001b[0m\u001b[1mChar.\u001b[0m\u001b[1m \u001b[0m┃\u001b[1m \u001b[0m\u001b[1mRepr.\u001b[0m\u001b[1m \u001b[0m┃\u001b[1m \u001b[0m\u001b[1mName                \u001b[0m\u001b[1m \u001b[0m┃ \n",
      " ┡━━━━━━━╇━━━━━━━╇━━━━━━━━━━━━━━━━━━━━━━┩ \n",
      " │ h     │ 'h'   │ LATIN SMALL LETTER H │ \n",
      " │ e     │ 'e'   │ LATIN SMALL LETTER E │ \n",
      " │ l     │ 'l'   │ LATIN SMALL LETTER L │ \n",
      " │ l     │ 'l'   │ LATIN SMALL LETTER L │ \n",
      " │ o     │ 'o'   │ LATIN SMALL LETTER O │ \n",
      " │       │ ' '   │ SPACE                │ \n",
      " │ w     │ 'w'   │ LATIN SMALL LETTER W │ \n",
      " │ o     │ 'o'   │ LATIN SMALL LETTER O │ \n",
      " │ r     │ 'r'   │ LATIN SMALL LETTER R │ \n",
      " │ l     │ 'l'   │ LATIN SMALL LETTER L │ \n",
      " │ d     │ 'd'   │ LATIN SMALL LETTER D │ \n",
      " └───────┴───────┴──────────────────────┘ \n"
     ]
    }
   ],
   "source": [
    "trace_on\n",
    "argtest 'hello world' -v\n",
    "trace_off"
   ]
  },
  {
   "cell_type": "markdown",
   "id": "8ea3a371-9788-48d7-975a-841860c763de",
   "metadata": {},
   "source": [
    "|  | No Quotes | Single Quotes | Double Quotes |\n",
    "| --- | --- | --- | --- |\n",
    "| Variables (`$foo`) | Expand | Literal | Expand |\n",
    "| Wildcards (`*`, `?`, `[]`) | Wildcard | Literal | Literal |\n",
    "| Expansions (`{}`, `**`) | Wildcard | Literal | Literal |"
   ]
  },
  {
   "cell_type": "markdown",
   "id": "ea06b715-ca68-426d-acb0-0c33f2df3d86",
   "metadata": {},
   "source": [
    "## Putting it all together\n",
    "\n",
    "Let's look at all of this working together"
   ]
  },
  {
   "cell_type": "code",
   "execution_count": 105,
   "id": "14b46f95-e183-4ddf-a1e7-c95ae8efd6db",
   "metadata": {},
   "outputs": [
    {
     "name": "stdout",
     "output_type": "stream",
     "text": [
      "./deep/nesting/of/directories/1.txt  ./more_and_even_more/deep/nestings/1.txt  ./more_and_more/deep/nestings/1.txt  ./more/deep/nestings/1.txt\n",
      "./deep/nesting/of/directories/2.txt  ./more_and_even_more/deep/nestings/2.txt  ./more_and_more/deep/nestings/2.txt  ./more/deep/nestings/2.txt\n"
     ]
    }
   ],
   "source": [
    "# Show all text files named either 1 or 2, but only if they are within a \"deep\" directory at any point in their ancestry\n",
    "ls ./**/deep/**/[1-2].txt"
   ]
  }
 ],
 "metadata": {
  "kernelspec": {
   "display_name": "Bash",
   "language": "bash",
   "name": "bash"
  },
  "language_info": {
   "codemirror_mode": "shell",
   "file_extension": ".sh",
   "mimetype": "text/x-sh",
   "name": "bash"
  }
 },
 "nbformat": 4,
 "nbformat_minor": 5
}
